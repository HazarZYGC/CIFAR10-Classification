{
 "cells": [
  {
   "cell_type": "code",
   "execution_count": 1,
   "metadata": {},
   "outputs": [
    {
     "name": "stderr",
     "output_type": "stream",
     "text": [
      "Using TensorFlow backend.\n"
     ]
    }
   ],
   "source": [
    "import pandas as pd\n",
    "import numpy as np\n",
    "import pickle\n",
    "import matplotlib.pyplot as plt\n",
    "from keras.utils import np_utils\n",
    "from keras.models import Sequential\n",
    "from keras.layers.core import Dense, Dropout, Activation, Flatten\n",
    "from keras.layers.convolutional import Conv2D, MaxPooling2D\n",
    "from keras.layers import BatchNormalization,Concatenate\n",
    "from keras.optimizers import SGD, Adam, RMSprop\n",
    "from keras.regularizers import l2"
   ]
  },
  {
   "cell_type": "code",
   "execution_count": 2,
   "metadata": {},
   "outputs": [
    {
     "data": {
      "text/plain": [
       "50000"
      ]
     },
     "execution_count": 2,
     "metadata": {},
     "output_type": "execute_result"
    }
   ],
   "source": [
    "label_train = []\n",
    "label_test = []\n",
    "def reading_train(file):\n",
    "    with open(file, 'rb') as fo:\n",
    "        dict = pickle.load(fo, encoding='bytes') \n",
    "    train = dict[b'data']\n",
    "    train = train.reshape((len(train), 3, 32, 32)).transpose(0, 2, 3, 1)\n",
    "    for i in dict[b'labels']:\n",
    "        label_train.append(i)\n",
    "    return train\n",
    "\n",
    "def reading_test(file):\n",
    "    with open(file, 'rb') as fo:\n",
    "        dict = pickle.load(fo, encoding='bytes') \n",
    "    train = dict[b'data']\n",
    "    train = train.reshape((len(train), 3, 32, 32)).transpose(0, 2, 3, 1)   \n",
    "    for i in dict[b'labels']:\n",
    "        label_test.append(i)\n",
    "    return train\n",
    "\n",
    "df1 = reading_train('data_batch_1')\n",
    "df2 = reading_train('data_batch_2')\n",
    "df3 = reading_train('data_batch_3')\n",
    "df4 = reading_train('data_batch_4')\n",
    "df5 = reading_train('data_batch_5')\n",
    "ataboi = np.concatenate((df1,df2,df3,df4,df5))\n",
    "dftest = reading_test('test_batch') \n",
    "ataboi.shape\n",
    "len(label_train)"
   ]
  },
  {
   "cell_type": "code",
   "execution_count": 3,
   "metadata": {},
   "outputs": [
    {
     "data": {
      "text/plain": [
       "150000"
      ]
     },
     "execution_count": 3,
     "metadata": {},
     "output_type": "execute_result"
    }
   ],
   "source": [
    "augmented = []\n",
    "i = 0\n",
    "for item in ataboi:\n",
    "    flip_1 = np.fliplr(item)\n",
    "    flip_2 = np.flipud(item)\n",
    "    augmented.append(flip_1)\n",
    "    augmented.append(flip_2)\n",
    "    label_train.append(label_train[i])\n",
    "    label_train.append(label_train[i])\n",
    "    i = i+1\n",
    "len(label_train)"
   ]
  },
  {
   "cell_type": "code",
   "execution_count": 4,
   "metadata": {},
   "outputs": [
    {
     "data": {
      "text/plain": [
       "<matplotlib.image.AxesImage at 0x139850bd348>"
      ]
     },
     "execution_count": 4,
     "metadata": {},
     "output_type": "execute_result"
    },
    {
     "data": {
      "image/png": "[encoded data removed]",
      "text/plain": [
       "<Figure size 432x288 with 1 Axes>"
      ]
     },
     "metadata": {
      "needs_background": "light"
     },
     "output_type": "display_data"
    }
   ],
   "source": [
    "plt.imshow(augmented[1])"
   ]
  },
  {
   "cell_type": "code",
   "execution_count": 5,
   "metadata": {},
   "outputs": [],
   "source": [
    "arr = np.array(augmented)"
   ]
  },
  {
   "cell_type": "code",
   "execution_count": 6,
   "metadata": {},
   "outputs": [
    {
     "data": {
      "text/plain": [
       "(100000, 32, 32, 3)"
      ]
     },
     "execution_count": 6,
     "metadata": {},
     "output_type": "execute_result"
    }
   ],
   "source": [
    "arr.shape"
   ]
  },
  {
   "cell_type": "code",
   "execution_count": 7,
   "metadata": {},
   "outputs": [
    {
     "data": {
      "text/plain": [
       "150000"
      ]
     },
     "execution_count": 7,
     "metadata": {},
     "output_type": "execute_result"
    }
   ],
   "source": [
    "ataboi = np.concatenate((ataboi,arr))\n",
    "len(ataboi)"
   ]
  },
  {
   "cell_type": "code",
   "execution_count": 8,
   "metadata": {},
   "outputs": [
    {
     "data": {
      "text/plain": [
       "(10000, 32, 32, 3)"
      ]
     },
     "execution_count": 8,
     "metadata": {},
     "output_type": "execute_result"
    }
   ],
   "source": [
    "dftest.shape"
   ]
  },
  {
   "cell_type": "code",
   "execution_count": 9,
   "metadata": {},
   "outputs": [],
   "source": [
    "ataboi,dftest = ataboi / 255.0, dftest / 255.0"
   ]
  },
  {
   "cell_type": "code",
   "execution_count": 20,
   "metadata": {},
   "outputs": [],
   "source": [
    "model = Sequential()\n",
    "model.add(Conv2D(32, (3, 3), activation='relu', kernel_initializer='he_uniform', padding='same', input_shape=(32, 32, 3)))\n",
    "model.add(BatchNormalization())\n",
    "model.add(Conv2D(32, (3, 3), activation='relu', kernel_initializer='he_uniform', padding='same'))\n",
    "model.add(BatchNormalization())\n",
    "model.add(MaxPooling2D((2, 2)))\n",
    "model.add(Dropout(0.2))\n",
    "model.add(Conv2D(64, (3, 3), activation='relu', kernel_initializer='he_uniform', padding='same'))\n",
    "model.add(BatchNormalization())\n",
    "model.add(Conv2D(64, (3, 3), activation='relu', kernel_initializer='he_uniform', padding='same'))\n",
    "model.add(BatchNormalization())\n",
    "model.add(MaxPooling2D((2, 2)))\n",
    "model.add(Dropout(0.3))\n",
    "model.add(Conv2D(128, (3, 3), activation='relu', kernel_initializer='he_uniform', padding='same'))\n",
    "model.add(BatchNormalization())\n",
    "model.add(Conv2D(128, (3, 3), activation='relu', kernel_initializer='he_uniform', padding='same'))\n",
    "model.add(BatchNormalization())\n",
    "model.add(MaxPooling2D((2, 2)))\n",
    "model.add(Dropout(0.4))\n",
    "model.add(Flatten())\n",
    "model.add(Dense(128, activation='relu', kernel_initializer='he_uniform'))\n",
    "model.add(BatchNormalization())\n",
    "model.add(Dropout(0.5))\n",
    "model.add(Dense(10, activation='softmax'))"
   ]
  },
  {
   "cell_type": "code",
   "execution_count": 21,
   "metadata": {},
   "outputs": [
    {
     "name": "stdout",
     "output_type": "stream",
     "text": [
      "Model: \"sequential_3\"\n",
      "_________________________________________________________________\n",
      "Layer (type)                 Output Shape              Param #   \n",
      "=================================================================\n",
      "conv2d_13 (Conv2D)           (None, 32, 32, 32)        896       \n",
      "_________________________________________________________________\n",
      "batch_normalization_8 (Batch (None, 32, 32, 32)        128       \n",
      "_________________________________________________________________\n",
      "conv2d_14 (Conv2D)           (None, 32, 32, 32)        9248      \n",
      "_________________________________________________________________\n",
      "batch_normalization_9 (Batch (None, 32, 32, 32)        128       \n",
      "_________________________________________________________________\n",
      "max_pooling2d_7 (MaxPooling2 (None, 16, 16, 32)        0         \n",
      "_________________________________________________________________\n",
      "dropout_5 (Dropout)          (None, 16, 16, 32)        0         \n",
      "_________________________________________________________________\n",
      "conv2d_15 (Conv2D)           (None, 16, 16, 64)        18496     \n",
      "_________________________________________________________________\n",
      "batch_normalization_10 (Batc (None, 16, 16, 64)        256       \n",
      "_________________________________________________________________\n",
      "conv2d_16 (Conv2D)           (None, 16, 16, 64)        36928     \n",
      "_________________________________________________________________\n",
      "batch_normalization_11 (Batc (None, 16, 16, 64)        256       \n",
      "_________________________________________________________________\n",
      "max_pooling2d_8 (MaxPooling2 (None, 8, 8, 64)          0         \n",
      "_________________________________________________________________\n",
      "dropout_6 (Dropout)          (None, 8, 8, 64)          0         \n",
      "_________________________________________________________________\n",
      "conv2d_17 (Conv2D)           (None, 8, 8, 128)         73856     \n",
      "_________________________________________________________________\n",
      "batch_normalization_12 (Batc (None, 8, 8, 128)         512       \n",
      "_________________________________________________________________\n",
      "conv2d_18 (Conv2D)           (None, 8, 8, 128)         147584    \n",
      "_________________________________________________________________\n",
      "batch_normalization_13 (Batc (None, 8, 8, 128)         512       \n",
      "_________________________________________________________________\n",
      "max_pooling2d_9 (MaxPooling2 (None, 4, 4, 128)         0         \n",
      "_________________________________________________________________\n",
      "dropout_7 (Dropout)          (None, 4, 4, 128)         0         \n",
      "_________________________________________________________________\n",
      "flatten_3 (Flatten)          (None, 2048)              0         \n",
      "_________________________________________________________________\n",
      "dense_7 (Dense)              (None, 128)               262272    \n",
      "_________________________________________________________________\n",
      "batch_normalization_14 (Batc (None, 128)               512       \n",
      "_________________________________________________________________\n",
      "dropout_8 (Dropout)          (None, 128)               0         \n",
      "_________________________________________________________________\n",
      "dense_8 (Dense)              (None, 10)                1290      \n",
      "=================================================================\n",
      "Total params: 552,874\n",
      "Trainable params: 551,722\n",
      "Non-trainable params: 1,152\n",
      "_________________________________________________________________\n"
     ]
    }
   ],
   "source": [
    "model.summary()"
   ]
  },
  {
   "cell_type": "code",
   "execution_count": 22,
   "metadata": {},
   "outputs": [],
   "source": [
    "model.compile(\n",
    "    loss='sparse_categorical_crossentropy',\n",
    "    optimizer='adam',\n",
    "    metrics=['accuracy']\n",
    ")"
   ]
  },
  {
   "cell_type": "code",
   "execution_count": 23,
   "metadata": {},
   "outputs": [
    {
     "name": "stdout",
     "output_type": "stream",
     "text": [
      "Train on 135000 samples, validate on 15000 samples\n",
      "Epoch 1/50\n",
      "135000/135000 [==============================] - 100s 742us/step - loss: 1.4527 - accuracy: 0.4832 - val_loss: 1.0242 - val_accuracy: 0.6304\n",
      "Epoch 2/50\n",
      "135000/135000 [==============================] - 96s 708us/step - loss: 0.9862 - accuracy: 0.6501 - val_loss: 0.8507 - val_accuracy: 0.6923\n",
      "Epoch 3/50\n",
      "135000/135000 [==============================] - 94s 699us/step - loss: 0.8362 - accuracy: 0.7073 - val_loss: 0.7868 - val_accuracy: 0.7254\n",
      "Epoch 4/50\n",
      "135000/135000 [==============================] - 96s 709us/step - loss: 0.7419 - accuracy: 0.7410 - val_loss: 0.6362 - val_accuracy: 0.7717\n",
      "Epoch 5/50\n",
      "135000/135000 [==============================] - 95s 704us/step - loss: 0.6778 - accuracy: 0.7648 - val_loss: 0.5985 - val_accuracy: 0.7905\n",
      "Epoch 6/50\n",
      "135000/135000 [==============================] - 96s 708us/step - loss: 0.6318 - accuracy: 0.7811 - val_loss: 0.5838 - val_accuracy: 0.7933\n",
      "Epoch 7/50\n",
      "135000/135000 [==============================] - 95s 704us/step - loss: 0.5983 - accuracy: 0.7945 - val_loss: 0.5817 - val_accuracy: 0.7974\n",
      "Epoch 8/50\n",
      "135000/135000 [==============================] - 97s 717us/step - loss: 0.5724 - accuracy: 0.8016 - val_loss: 0.5484 - val_accuracy: 0.8068\n",
      "Epoch 9/50\n",
      "135000/135000 [==============================] - 95s 704us/step - loss: 0.5458 - accuracy: 0.8120 - val_loss: 0.5637 - val_accuracy: 0.8062\n",
      "Epoch 10/50\n",
      "135000/135000 [==============================] - 98s 724us/step - loss: 0.5254 - accuracy: 0.8186 - val_loss: 0.5244 - val_accuracy: 0.8168\n",
      "Epoch 11/50\n",
      "135000/135000 [==============================] - 98s 724us/step - loss: 0.5069 - accuracy: 0.8257 - val_loss: 0.5158 - val_accuracy: 0.8189\n",
      "Epoch 12/50\n",
      "135000/135000 [==============================] - 99s 734us/step - loss: 0.4935 - accuracy: 0.8293 - val_loss: 0.4884 - val_accuracy: 0.8319\n",
      "Epoch 13/50\n",
      "135000/135000 [==============================] - 97s 722us/step - loss: 0.4800 - accuracy: 0.8346 - val_loss: 0.4633 - val_accuracy: 0.8389\n",
      "Epoch 14/50\n",
      "135000/135000 [==============================] - 100s 741us/step - loss: 0.4673 - accuracy: 0.8390 - val_loss: 0.4502 - val_accuracy: 0.8447\n",
      "Epoch 15/50\n",
      "135000/135000 [==============================] - 96s 710us/step - loss: 0.4552 - accuracy: 0.8435 - val_loss: 0.4546 - val_accuracy: 0.8423\n",
      "Epoch 16/50\n",
      "135000/135000 [==============================] - 96s 713us/step - loss: 0.4453 - accuracy: 0.8462 - val_loss: 0.4481 - val_accuracy: 0.8433\n",
      "Epoch 17/50\n",
      "135000/135000 [==============================] - 94s 697us/step - loss: 0.4363 - accuracy: 0.8493 - val_loss: 0.4679 - val_accuracy: 0.8393\n",
      "Epoch 18/50\n",
      "135000/135000 [==============================] - 93s 688us/step - loss: 0.4273 - accuracy: 0.8525 - val_loss: 0.4778 - val_accuracy: 0.8349\n",
      "Epoch 19/50\n",
      "135000/135000 [==============================] - 92s 685us/step - loss: 0.4199 - accuracy: 0.8539 - val_loss: 0.4507 - val_accuracy: 0.8445\n",
      "Epoch 20/50\n",
      "135000/135000 [==============================] - 94s 694us/step - loss: 0.4125 - accuracy: 0.8569 - val_loss: 0.4728 - val_accuracy: 0.8422\n",
      "Epoch 21/50\n",
      "135000/135000 [==============================] - 95s 705us/step - loss: 0.4036 - accuracy: 0.8599 - val_loss: 0.4436 - val_accuracy: 0.8482\n",
      "Epoch 22/50\n",
      "135000/135000 [==============================] - 94s 700us/step - loss: 0.3998 - accuracy: 0.8613 - val_loss: 0.4346 - val_accuracy: 0.8497\n",
      "Epoch 23/50\n",
      "135000/135000 [==============================] - 94s 699us/step - loss: 0.3922 - accuracy: 0.8643 - val_loss: 0.4205 - val_accuracy: 0.8552\n",
      "Epoch 24/50\n",
      "135000/135000 [==============================] - 94s 697us/step - loss: 0.3876 - accuracy: 0.8656 - val_loss: 0.4661 - val_accuracy: 0.8443\n",
      "Epoch 25/50\n",
      "135000/135000 [==============================] - 96s 708us/step - loss: 0.3825 - accuracy: 0.8666 - val_loss: 0.4262 - val_accuracy: 0.8552\n",
      "Epoch 26/50\n",
      "135000/135000 [==============================] - 95s 701us/step - loss: 0.3744 - accuracy: 0.8707 - val_loss: 0.4266 - val_accuracy: 0.8563\n",
      "Epoch 27/50\n",
      "135000/135000 [==============================] - 94s 699us/step - loss: 0.3732 - accuracy: 0.8705 - val_loss: 0.4357 - val_accuracy: 0.8535\n",
      "Epoch 28/50\n",
      "135000/135000 [==============================] - 95s 705us/step - loss: 0.3673 - accuracy: 0.8724 - val_loss: 0.4165 - val_accuracy: 0.8599\n",
      "Epoch 29/50\n",
      "135000/135000 [==============================] - 95s 700us/step - loss: 0.3618 - accuracy: 0.8751 - val_loss: 0.4234 - val_accuracy: 0.8591\n",
      "Epoch 30/50\n",
      "135000/135000 [==============================] - 95s 704us/step - loss: 0.3580 - accuracy: 0.8754 - val_loss: 0.4017 - val_accuracy: 0.8643\n",
      "Epoch 31/50\n",
      "135000/135000 [==============================] - 96s 709us/step - loss: 0.3570 - accuracy: 0.8761 - val_loss: 0.4065 - val_accuracy: 0.8614\n",
      "Epoch 32/50\n",
      "135000/135000 [==============================] - 95s 704us/step - loss: 0.3521 - accuracy: 0.8773 - val_loss: 0.4225 - val_accuracy: 0.8579\n",
      "Epoch 33/50\n",
      "135000/135000 [==============================] - 94s 700us/step - loss: 0.3476 - accuracy: 0.8793 - val_loss: 0.4337 - val_accuracy: 0.8525\n",
      "Epoch 34/50\n",
      "135000/135000 [==============================] - 94s 700us/step - loss: 0.3456 - accuracy: 0.8795 - val_loss: 0.4100 - val_accuracy: 0.8593\n",
      "Epoch 35/50\n",
      "135000/135000 [==============================] - 95s 700us/step - loss: 0.3439 - accuracy: 0.8812 - val_loss: 0.4063 - val_accuracy: 0.8643\n",
      "Epoch 36/50\n",
      "135000/135000 [==============================] - 95s 701us/step - loss: 0.3369 - accuracy: 0.8822 - val_loss: 0.4152 - val_accuracy: 0.8610\n",
      "Epoch 37/50\n",
      "135000/135000 [==============================] - 94s 700us/step - loss: 0.3332 - accuracy: 0.8835 - val_loss: 0.4029 - val_accuracy: 0.8635\n",
      "Epoch 38/50\n",
      "135000/135000 [==============================] - 94s 700us/step - loss: 0.3315 - accuracy: 0.8844 - val_loss: 0.4170 - val_accuracy: 0.8591\n",
      "Epoch 39/50\n",
      "135000/135000 [==============================] - 94s 696us/step - loss: 0.3275 - accuracy: 0.8863 - val_loss: 0.4203 - val_accuracy: 0.8596\n",
      "Epoch 40/50\n",
      "135000/135000 [==============================] - 94s 695us/step - loss: 0.3235 - accuracy: 0.8881 - val_loss: 0.3889 - val_accuracy: 0.8691\n",
      "Epoch 41/50\n",
      "135000/135000 [==============================] - 95s 704us/step - loss: 0.3206 - accuracy: 0.8882 - val_loss: 0.3932 - val_accuracy: 0.8705\n",
      "Epoch 42/50\n",
      "135000/135000 [==============================] - 94s 699us/step - loss: 0.3190 - accuracy: 0.8892 - val_loss: 0.4015 - val_accuracy: 0.8669\n",
      "Epoch 43/50\n",
      "135000/135000 [==============================] - 95s 700us/step - loss: 0.3178 - accuracy: 0.8887 - val_loss: 0.4053 - val_accuracy: 0.8625\n",
      "Epoch 44/50\n",
      "135000/135000 [==============================] - 95s 701us/step - loss: 0.3126 - accuracy: 0.8908 - val_loss: 0.3808 - val_accuracy: 0.8725\n",
      "Epoch 45/50\n",
      "135000/135000 [==============================] - 97s 715us/step - loss: 0.3122 - accuracy: 0.8910 - val_loss: 0.3962 - val_accuracy: 0.8696\n",
      "Epoch 46/50\n",
      "135000/135000 [==============================] - 95s 705us/step - loss: 0.3097 - accuracy: 0.8923 - val_loss: 0.3912 - val_accuracy: 0.8711\n",
      "Epoch 47/50\n",
      "135000/135000 [==============================] - 97s 717us/step - loss: 0.3078 - accuracy: 0.8928 - val_loss: 0.3915 - val_accuracy: 0.8687\n",
      "Epoch 48/50\n",
      "135000/135000 [==============================] - 97s 722us/step - loss: 0.3057 - accuracy: 0.8935 - val_loss: 0.3868 - val_accuracy: 0.8708\n",
      "Epoch 49/50\n",
      "135000/135000 [==============================] - 96s 714us/step - loss: 0.3051 - accuracy: 0.8929 - val_loss: 0.3777 - val_accuracy: 0.8733\n",
      "Epoch 50/50\n",
      "135000/135000 [==============================] - 97s 722us/step - loss: 0.2996 - accuracy: 0.8953 - val_loss: 0.3787 - val_accuracy: 0.8721\n"
     ]
    }
   ],
   "source": [
    "history = model.fit(ataboi,label_train,epochs=50,batch_size=64,validation_split=0.1)"
   ]
  },
  {
   "cell_type": "code",
   "execution_count": 25,
   "metadata": {},
   "outputs": [
    {
     "name": "stdout",
     "output_type": "stream",
     "text": [
      "10000/10000 [==============================] - 4s 372us/step\n",
      "Test loss: 0.3606984977245331\n",
      "Test accuracy: 0.8820000290870667\n"
     ]
    }
   ],
   "source": [
    "scores = model.evaluate(dftest, label_test, verbose=1)\n",
    "print('Test loss:', scores[0])\n",
    "print('Test accuracy:', scores[1])"
   ]
  }
 ],
 "metadata": {
  "kernelspec": {
   "display_name": "Python 3",
   "language": "python",
   "name": "python3"
  },
  "language_info": {
   "codemirror_mode": {
    "name": "ipython",
    "version": 3
   },
   "file_extension": ".py",
   "mimetype": "text/x-python",
   "name": "python",
   "nbconvert_exporter": "python",
   "pygments_lexer": "ipython3",
   "version": "3.7.9"
  }
 },
 "nbformat": 4,
 "nbformat_minor": 4
}
